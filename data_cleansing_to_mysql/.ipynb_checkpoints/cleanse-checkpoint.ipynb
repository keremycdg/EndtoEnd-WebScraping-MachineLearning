{
 "cells": [
  {
   "cell_type": "code",
   "execution_count": 1,
   "id": "c1f402e4",
   "metadata": {},
   "outputs": [],
   "source": [
    "import pandas as pd \n",
    "import numpy as np\n",
    "from csv import writer\n",
    "import csv\n",
    "\n",
    "import mysql.connector"
   ]
  },
  {
   "cell_type": "code",
   "execution_count": 2,
   "id": "148ea2ad",
   "metadata": {},
   "outputs": [
    {
     "data": {
      "text/html": [
       "<div>\n",
       "<style scoped>\n",
       "    .dataframe tbody tr th:only-of-type {\n",
       "        vertical-align: middle;\n",
       "    }\n",
       "\n",
       "    .dataframe tbody tr th {\n",
       "        vertical-align: top;\n",
       "    }\n",
       "\n",
       "    .dataframe thead th {\n",
       "        text-align: right;\n",
       "    }\n",
       "</style>\n",
       "<table border=\"1\" class=\"dataframe\">\n",
       "  <thead>\n",
       "    <tr style=\"text-align: right;\">\n",
       "      <th></th>\n",
       "      <th>Price</th>\n",
       "      <th>Room_Count</th>\n",
       "      <th>Area(sqrmt)</th>\n",
       "      <th>Age</th>\n",
       "      <th>Floor</th>\n",
       "    </tr>\n",
       "  </thead>\n",
       "  <tbody>\n",
       "    <tr>\n",
       "      <th>0</th>\n",
       "      <td>5.000              TL</td>\n",
       "      <td>1 + 1</td>\n",
       "      <td>60 m2</td>\n",
       "      <td>Sıfır Bina</td>\n",
       "      <td>Bahçe Katı</td>\n",
       "    </tr>\n",
       "    <tr>\n",
       "      <th>1</th>\n",
       "      <td>5.000              TL</td>\n",
       "      <td>Stüdyo</td>\n",
       "      <td>25 m2</td>\n",
       "      <td>40 Yaşında</td>\n",
       "      <td>2. Kat</td>\n",
       "    </tr>\n",
       "    <tr>\n",
       "      <th>2</th>\n",
       "      <td>5.500              TL</td>\n",
       "      <td>2 + 1</td>\n",
       "      <td>100 m2</td>\n",
       "      <td>28 Yaşında</td>\n",
       "      <td>Yüksek Giriş</td>\n",
       "    </tr>\n",
       "    <tr>\n",
       "      <th>3</th>\n",
       "      <td>10.500              TL</td>\n",
       "      <td>2 + 1</td>\n",
       "      <td>125 m2</td>\n",
       "      <td>38 Yaşında</td>\n",
       "      <td>1. Kat</td>\n",
       "    </tr>\n",
       "    <tr>\n",
       "      <th>4</th>\n",
       "      <td>10.500              TL</td>\n",
       "      <td>2 + 1</td>\n",
       "      <td>125 m2</td>\n",
       "      <td>30 Yaşında</td>\n",
       "      <td>1. Kat</td>\n",
       "    </tr>\n",
       "    <tr>\n",
       "      <th>...</th>\n",
       "      <td>...</td>\n",
       "      <td>...</td>\n",
       "      <td>...</td>\n",
       "      <td>...</td>\n",
       "      <td>...</td>\n",
       "    </tr>\n",
       "    <tr>\n",
       "      <th>130</th>\n",
       "      <td>8.000              TL</td>\n",
       "      <td>2 + 1</td>\n",
       "      <td>100 m2</td>\n",
       "      <td>31 Yaşında</td>\n",
       "      <td>1. Kat</td>\n",
       "    </tr>\n",
       "    <tr>\n",
       "      <th>131</th>\n",
       "      <td>5.000              TL</td>\n",
       "      <td>Stüdyo</td>\n",
       "      <td>25 m2</td>\n",
       "      <td>40 Yaşında</td>\n",
       "      <td>2. Kat</td>\n",
       "    </tr>\n",
       "    <tr>\n",
       "      <th>132</th>\n",
       "      <td>8.000              TL</td>\n",
       "      <td>2 + 1</td>\n",
       "      <td>95 m2</td>\n",
       "      <td>31 Yaşında</td>\n",
       "      <td>1. Kat</td>\n",
       "    </tr>\n",
       "    <tr>\n",
       "      <th>133</th>\n",
       "      <td>5.000              TL</td>\n",
       "      <td>1 + 1</td>\n",
       "      <td>70 m2</td>\n",
       "      <td>35 Yaşında</td>\n",
       "      <td>2. Kat</td>\n",
       "    </tr>\n",
       "    <tr>\n",
       "      <th>134</th>\n",
       "      <td>5.000              TL</td>\n",
       "      <td>1 + 1</td>\n",
       "      <td>65 m2</td>\n",
       "      <td>28 Yaşında</td>\n",
       "      <td>Giriş Katı</td>\n",
       "    </tr>\n",
       "  </tbody>\n",
       "</table>\n",
       "<p>135 rows × 5 columns</p>\n",
       "</div>"
      ],
      "text/plain": [
       "                                    Price Room_Count  \\\n",
       "0                   5.000              TL      1 + 1   \n",
       "1                   5.000              TL     Stüdyo   \n",
       "2                   5.500              TL      2 + 1   \n",
       "3                  10.500              TL      2 + 1   \n",
       "4                  10.500              TL      2 + 1   \n",
       "..                                    ...        ...   \n",
       "130                 8.000              TL      2 + 1   \n",
       "131                 5.000              TL     Stüdyo   \n",
       "132                 8.000              TL      2 + 1   \n",
       "133                 5.000              TL      1 + 1   \n",
       "134                 5.000              TL      1 + 1   \n",
       "\n",
       "                          Area(sqrmt)         Age  \\\n",
       "0                               60 m2  Sıfır Bina   \n",
       "1                               25 m2  40 Yaşında   \n",
       "2                              100 m2  28 Yaşında   \n",
       "3                              125 m2  38 Yaşında   \n",
       "4                              125 m2  30 Yaşında   \n",
       "..                                ...         ...   \n",
       "130                            100 m2  31 Yaşında   \n",
       "131                             25 m2  40 Yaşında   \n",
       "132                             95 m2  31 Yaşında   \n",
       "133                             70 m2  35 Yaşında   \n",
       "134                             65 m2  28 Yaşında   \n",
       "\n",
       "                                  Floor  \n",
       "0                            Bahçe Katı  \n",
       "1                                2. Kat  \n",
       "2                          Yüksek Giriş  \n",
       "3                                1. Kat  \n",
       "4                                1. Kat  \n",
       "..                                  ...  \n",
       "130                              1. Kat  \n",
       "131                              2. Kat  \n",
       "132                              1. Kat  \n",
       "133                              2. Kat  \n",
       "134                          Giriş Katı  \n",
       "\n",
       "[135 rows x 5 columns]"
      ]
     },
     "execution_count": 2,
     "metadata": {},
     "output_type": "execute_result"
    }
   ],
   "source": [
    "df = pd.read_csv(\"../bs4_to_mysql/df_rental.csv\")\n",
    "df"
   ]
  },
  {
   "cell_type": "code",
   "execution_count": 3,
   "id": "16fb58b9",
   "metadata": {},
   "outputs": [
    {
     "name": "stdout",
     "output_type": "stream",
     "text": [
      "<class 'pandas.core.frame.DataFrame'>\n",
      "RangeIndex: 135 entries, 0 to 134\n",
      "Data columns (total 5 columns):\n",
      " #   Column       Non-Null Count  Dtype \n",
      "---  ------       --------------  ----- \n",
      " 0   Price        135 non-null    object\n",
      " 1   Room_Count   135 non-null    object\n",
      " 2   Area(sqrmt)  135 non-null    object\n",
      " 3   Age          135 non-null    object\n",
      " 4   Floor        135 non-null    object\n",
      "dtypes: object(5)\n",
      "memory usage: 5.4+ KB\n"
     ]
    }
   ],
   "source": [
    "df.info()"
   ]
  },
  {
   "cell_type": "code",
   "execution_count": 4,
   "id": "a259de75",
   "metadata": {},
   "outputs": [
    {
     "name": "stderr",
     "output_type": "stream",
     "text": [
      "<ipython-input-4-e1d22b397f74>:2: FutureWarning: The default value of regex will change from True to False in a future version. In addition, single character regular expressions will*not* be treated as literal strings when regex=True.\n",
      "  df['Price'] = df.Price.str.replace('.', '')\n"
     ]
    }
   ],
   "source": [
    "df['Price'] = df.Price.str.extract(r'(\\d+[.\\d]*)')\n",
    "df['Price'] = df.Price.str.replace('.', '')\n",
    "df['Area(sqrmt)'] = df[\"Area(sqrmt)\"].str.extract(r'(\\d+[.\\d]*)')\n",
    "df['Age'] = df[\"Age\"].str.extract(r'(\\d+[.\\d]*)')\n",
    "\n",
    "df.dropna(inplace=True)\n",
    "df['Area(sqrmt)'] = df[\"Area(sqrmt)\"].astype(\"int\")\n",
    "df['Age'] = df[\"Age\"].astype(\"int\")\n",
    "df['Price'] = df.Price.astype(\"int\")"
   ]
  },
  {
   "cell_type": "code",
   "execution_count": 5,
   "id": "7544c4e4",
   "metadata": {},
   "outputs": [
    {
     "name": "stdout",
     "output_type": "stream",
     "text": [
      "<class 'pandas.core.frame.DataFrame'>\n",
      "Int64Index: 129 entries, 1 to 134\n",
      "Data columns (total 5 columns):\n",
      " #   Column       Non-Null Count  Dtype \n",
      "---  ------       --------------  ----- \n",
      " 0   Price        129 non-null    int32 \n",
      " 1   Room_Count   129 non-null    object\n",
      " 2   Area(sqrmt)  129 non-null    int32 \n",
      " 3   Age          129 non-null    int32 \n",
      " 4   Floor        129 non-null    object\n",
      "dtypes: int32(3), object(2)\n",
      "memory usage: 4.5+ KB\n"
     ]
    }
   ],
   "source": [
    "df.to_csv('df_last.csv', index=False)\n",
    "df.info()"
   ]
  },
  {
   "cell_type": "code",
   "execution_count": 6,
   "id": "f2f11dee",
   "metadata": {},
   "outputs": [
    {
     "name": "stdout",
     "output_type": "stream",
     "text": [
      "Done\n"
     ]
    }
   ],
   "source": [
    "data = 'df_last.csv'\n",
    "cnx = mysql.connector.connect(\n",
    "    user='xxx',\n",
    "    password='xxxx',\n",
    "    host='xxx',\n",
    "database=\"rental\")\n",
    "\n",
    "cursor = cnx.cursor()\n",
    "\n",
    "insert_statement = (\"\"\n",
    "    \"INSERT INTO rental(Price, Room, Area, Age, Floor)\"\n",
    "    \"VALUES (%s, %s, %s, %s,%s)\"\"\"\n",
    ")\n",
    "\n",
    "#sql=(\"CREATE TABLE rental0(Price INT(255), Room VARCHAR(255),Area INT(255) , Age INT(255), Floor VARCHAR(255))\")\n",
    "#cursor.execute(sql)\n",
    "\n",
    "with open(data, mode='r') as csv_data:\n",
    "    reader = csv.reader(csv_data, delimiter=',')\n",
    "    csv_data_list = list(reader)\n",
    "    for row in csv_data_list:\n",
    "        cursor.execute(insert_statement, row)\n",
    "\n",
    "cnx.commit()\n",
    "cursor.close()\n",
    "cnx.close()\n",
    "print(\"Done\")"
   ]
  }
 ],
 "metadata": {
  "kernelspec": {
   "display_name": "Python 3",
   "language": "python",
   "name": "python3"
  },
  "language_info": {
   "codemirror_mode": {
    "name": "ipython",
    "version": 3
   },
   "file_extension": ".py",
   "mimetype": "text/x-python",
   "name": "python",
   "nbconvert_exporter": "python",
   "pygments_lexer": "ipython3",
   "version": "3.8.8"
  }
 },
 "nbformat": 4,
 "nbformat_minor": 5
}
