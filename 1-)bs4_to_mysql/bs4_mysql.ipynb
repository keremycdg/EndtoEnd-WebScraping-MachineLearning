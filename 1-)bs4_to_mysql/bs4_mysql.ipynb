{
 "cells": [
  {
   "cell_type": "markdown",
   "id": "377e439b",
   "metadata": {},
   "source": [
    "### This notebook has only made for educational purposes therefore I don't show the URL of the website."
   ]
  },
  {
   "cell_type": "code",
   "execution_count": 1,
   "id": "bea427a0",
   "metadata": {},
   "outputs": [],
   "source": [
    "import pandas as pd \n",
    "import numpy as np\n",
    "\n",
    "from bs4 import BeautifulSoup\n",
    "import requests\n",
    "from csv import writer\n",
    "import csv\n",
    "\n",
    "import mysql.connector"
   ]
  },
  {
   "cell_type": "markdown",
   "id": "6b4b56db",
   "metadata": {},
   "source": [
    "### Scraping Data with BeautifulSoup4"
   ]
  },
  {
   "cell_type": "code",
   "execution_count": 2,
   "id": "b3768e23",
   "metadata": {},
   "outputs": [
    {
     "name": "stdout",
     "output_type": "stream",
     "text": [
      "['              5.000              TL', '1 + 1', '                          60 m2', 'Sıfır Bina', '                      Bahçe Katı']\n",
      "['              5.000              TL', 'Stüdyo', '                          25 m2', '40 Yaşında', '                      2. Kat']\n",
      "['              5.500              TL', '2 + 1', '                          100 m2', '28 Yaşında', '                      Yüksek Giriş']\n",
      "['              10.500              TL', '2 + 1', '                          125 m2', '38 Yaşında', '                      1. Kat']\n",
      "['              10.500              TL', '2 + 1', '                          125 m2', '30 Yaşında', '                      1. Kat']\n",
      "['              4.500              TL', '2 + 1', '                          70 m2', '6 Yaşında', '                      Yüksek Giriş']\n",
      "['              6.000              TL', '2 + 1', '                          85 m2', '38 Yaşında', '                      4. Kat']\n",
      "['              4.000              TL', '1 + 1', '                          55 m2', '40 Yaşında', '                      Kot 2']\n",
      "['              7.500              TL', '3 + 1', '                          120 m2', '25 Yaşında', '                      2. Kat']\n",
      "['              9.500              TL', '2 + 1', '                          89 m2', '6 Yaşında', '                      2. Kat']\n",
      "['              9.500              TL', '2 + 1', '                          90 m2', '6 Yaşında', '                      1. Kat']\n",
      "['              7.500              TL', '2 + 1', '                          83 m2', 'Sıfır Bina', '                      Yüksek Giriş']\n",
      "['              5.000              TL', '2 + 1', '                          67 m2', '45 Yaşında', '                      4. Kat']\n",
      "['              5.500              TL', '2 + 1', '                          90 m2', '30 Yaşında', '                      3. Kat']\n",
      "['              7.500              TL', '3 + 1', '                          140 m2', '40 Yaşında', '                      4. Kat']\n",
      "['              6.300              TL', '2 + 1', '                          110 m2', '31 Yaşında', '                      1. Kat']\n",
      "['              5.000              TL', '2 + 1', '                          95 m2', '35 Yaşında', '                      En Üst Kat']\n",
      "['              1.500              TL', 'Stüdyo', '                          37 m2', '8 Yaşında', '                      2. Kat']\n",
      "['              4.500              TL', '2 + 1', '                          65 m2', '6 Yaşında', '                      Yüksek Giriş']\n",
      "['              9.500              TL', '2 + 1', '                          85 m2', '50 Yaşında', '                      3. Kat']\n",
      "['              10.000              TL', '2 + 1', '                          125 m2', '18 Yaşında', '                      1. Kat']\n",
      "['              8.000              TL', '3 + 1', '                          115 m2', '38 Yaşında', '                      4. Kat']\n",
      "['              10.500              TL', '2 + 1', '                          140 m2', '38 Yaşında', '                      1. Kat']\n",
      "['              6.500              TL', '2 + 1', '                          85 m2', '40 Yaşında', '                      2. Kat']\n"
     ]
    }
   ],
   "source": [
    "URL = \"xxxx\"\n",
    "page= requests.get(URL)\n",
    "bs = BeautifulSoup(page.content,\"html.parser\")\n",
    "lists= bs.find_all(\"li\",class_=\"listing-item\")\n",
    "\n",
    "with open(\"rental.csv\",\"w\",encoding=\"utf-8\",newline=\"\") as f:\n",
    "    thewriter=writer(f)\n",
    "    header=[\"Price\",\"Room_Count\",\"Area(sqrmt)\",\"Age\",\"Floor\"]\n",
    "    thewriter.writerow(header)\n",
    "    for list_ in lists:\n",
    "        price=list_.find(\"span\",class_=\"list-view-price\").text.replace(\"\\n\",\"\")\n",
    "        room=list_.find(\"span\",class_=\"celly houseRoomCount\").text.replace(\"\\n\",\"\")\n",
    "        sqrmt=list_.find(\"span\",class_=\"celly squareMeter list-view-size\").text.replace(\"\\n\",\"\")\n",
    "        age=list_.find(\"span\",class_=\"celly buildingAge\").text.replace(\"\\n\",\"\")\n",
    "        floor=list_.find(\"span\",class_=\"celly floortype\").text.replace(\"\\n\",\"\")\n",
    "        info=[price,room,sqrmt,age,floor]\n",
    "        thewriter.writerow(info)\n",
    "        print(info)"
   ]
  },
  {
   "cell_type": "code",
   "execution_count": 3,
   "id": "fe646a60",
   "metadata": {},
   "outputs": [
    {
     "data": {
      "text/html": [
       "<div>\n",
       "<style scoped>\n",
       "    .dataframe tbody tr th:only-of-type {\n",
       "        vertical-align: middle;\n",
       "    }\n",
       "\n",
       "    .dataframe tbody tr th {\n",
       "        vertical-align: top;\n",
       "    }\n",
       "\n",
       "    .dataframe thead th {\n",
       "        text-align: right;\n",
       "    }\n",
       "</style>\n",
       "<table border=\"1\" class=\"dataframe\">\n",
       "  <thead>\n",
       "    <tr style=\"text-align: right;\">\n",
       "      <th></th>\n",
       "      <th>Price</th>\n",
       "      <th>Room_Count</th>\n",
       "      <th>Area(sqrmt)</th>\n",
       "      <th>Age</th>\n",
       "      <th>Floor</th>\n",
       "    </tr>\n",
       "  </thead>\n",
       "  <tbody>\n",
       "    <tr>\n",
       "      <th>0</th>\n",
       "      <td>5.000              TL</td>\n",
       "      <td>1 + 1</td>\n",
       "      <td>60 m2</td>\n",
       "      <td>Sıfır Bina</td>\n",
       "      <td>Bahçe Katı</td>\n",
       "    </tr>\n",
       "    <tr>\n",
       "      <th>1</th>\n",
       "      <td>5.000              TL</td>\n",
       "      <td>Stüdyo</td>\n",
       "      <td>25 m2</td>\n",
       "      <td>40 Yaşında</td>\n",
       "      <td>2. Kat</td>\n",
       "    </tr>\n",
       "    <tr>\n",
       "      <th>2</th>\n",
       "      <td>5.500              TL</td>\n",
       "      <td>2 + 1</td>\n",
       "      <td>100 m2</td>\n",
       "      <td>28 Yaşında</td>\n",
       "      <td>Yüksek Giriş</td>\n",
       "    </tr>\n",
       "    <tr>\n",
       "      <th>3</th>\n",
       "      <td>10.500              TL</td>\n",
       "      <td>2 + 1</td>\n",
       "      <td>125 m2</td>\n",
       "      <td>38 Yaşında</td>\n",
       "      <td>1. Kat</td>\n",
       "    </tr>\n",
       "    <tr>\n",
       "      <th>4</th>\n",
       "      <td>10.500              TL</td>\n",
       "      <td>2 + 1</td>\n",
       "      <td>125 m2</td>\n",
       "      <td>30 Yaşında</td>\n",
       "      <td>1. Kat</td>\n",
       "    </tr>\n",
       "  </tbody>\n",
       "</table>\n",
       "</div>"
      ],
      "text/plain": [
       "                                  Price Room_Count  \\\n",
       "0                 5.000              TL      1 + 1   \n",
       "1                 5.000              TL     Stüdyo   \n",
       "2                 5.500              TL      2 + 1   \n",
       "3                10.500              TL      2 + 1   \n",
       "4                10.500              TL      2 + 1   \n",
       "\n",
       "                        Area(sqrmt)         Age  \\\n",
       "0                             60 m2  Sıfır Bina   \n",
       "1                             25 m2  40 Yaşında   \n",
       "2                            100 m2  28 Yaşında   \n",
       "3                            125 m2  38 Yaşında   \n",
       "4                            125 m2  30 Yaşında   \n",
       "\n",
       "                                Floor  \n",
       "0                          Bahçe Katı  \n",
       "1                              2. Kat  \n",
       "2                        Yüksek Giriş  \n",
       "3                              1. Kat  \n",
       "4                              1. Kat  "
      ]
     },
     "execution_count": 3,
     "metadata": {},
     "output_type": "execute_result"
    }
   ],
   "source": [
    "### Concat 6 pages of data to one table\n",
    "df= pd.read_csv(\"rental.csv\")\n",
    "df0= pd.read_csv(\"rental0.csv\")\n",
    "df1= pd.read_csv(\"rental1.csv\")\n",
    "df2= pd.read_csv(\"rental2.csv\")\n",
    "df3= pd.read_csv(\"rental3.csv\")\n",
    "df4= pd.read_csv(\"rental4.csv\")\n",
    "df_rental= pd.concat([df,df0,df1,df2,df3,df4],axis=0).reset_index().drop(\"index\",axis=1)\n",
    "df_rental.to_csv('df_rental.csv', index=False)\n",
    "df_rental.head()"
   ]
  },
  {
   "cell_type": "markdown",
   "id": "78806e59",
   "metadata": {},
   "source": [
    "### Importing data to MySQL"
   ]
  },
  {
   "cell_type": "code",
   "execution_count": 4,
   "id": "a3e7b491",
   "metadata": {},
   "outputs": [
    {
     "name": "stdout",
     "output_type": "stream",
     "text": [
      "Done\n"
     ]
    }
   ],
   "source": [
    "data = 'df_rental.csv'\n",
    "cnx = mysql.connector.connect(\n",
    "    user='xxxx',\n",
    "    password='xxxx',\n",
    "    host='xxxx',\n",
    "database=\"rental\")\n",
    "\n",
    "cursor = cnx.cursor()\n",
    "\n",
    "insert_statement = (\"\"\n",
    "    \"INSERT INTO rental(Price, Room, Area, Age, Floor)\"\n",
    "    \"VALUES (%s, %s, %s, %s,%s)\"\"\"\n",
    ")\n",
    "\n",
    "#sql=(\"CREATE TABLE rental(Price VARCHAR(255), Room VARCHAR(255),Area VARCHAR(255) , Age VARCHAR(255), Floor VARCHAR(255))\")\n",
    "#cursor.execute(sql)\n",
    "\n",
    "with open(data, mode='r') as csv_data:\n",
    "    reader = csv.reader(csv_data, delimiter=',')\n",
    "    csv_data_list = list(reader)\n",
    "    for row in csv_data_list:\n",
    "        cursor.execute(insert_statement, row)\n",
    "\n",
    "cnx.commit()\n",
    "cursor.close()\n",
    "cnx.close()\n",
    "print(\"Done\")"
   ]
  },
  {
   "cell_type": "markdown",
   "id": "fe27a551",
   "metadata": {},
   "source": [
    "### Next Step is pulling the table from MySQL and Analyze"
   ]
  }
 ],
 "metadata": {
  "kernelspec": {
   "display_name": "Python 3",
   "language": "python",
   "name": "python3"
  },
  "language_info": {
   "codemirror_mode": {
    "name": "ipython",
    "version": 3
   },
   "file_extension": ".py",
   "mimetype": "text/x-python",
   "name": "python",
   "nbconvert_exporter": "python",
   "pygments_lexer": "ipython3",
   "version": "3.8.8"
  }
 },
 "nbformat": 4,
 "nbformat_minor": 5
}
